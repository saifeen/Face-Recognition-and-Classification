{
  "nbformat": 4,
  "nbformat_minor": 0,
  "metadata": {
    "colab": {
      "name": "Face Classification",
      "provenance": [],
      "collapsed_sections": []
    },
    "kernelspec": {
      "name": "python3",
      "display_name": "Python 3"
    },
    "language_info": {
      "name": "python"
    },
    "accelerator": "GPU"
  },
  "cells": [
    {
      "cell_type": "code",
      "execution_count": 1,
      "metadata": {
        "colab": {
          "base_uri": "https://localhost:8080/"
        },
        "id": "q8uGsxLV4jR2",
        "outputId": "44bae498-1fe5-495a-bea2-2b19ce98fe88"
      },
      "outputs": [
        {
          "output_type": "stream",
          "name": "stdout",
          "text": [
            "Archive:  dataset.zip\n",
            "  inflating: data/train/ben_afflek/httpcsvkmeuaeccjpg.jpg  \n",
            "  inflating: data/train/ben_afflek/httpimagesfandangocomrImageRendererredesignstaticimgnoxportraitjpgpcpcpcimagesmasterrepositoryperformerimagespjpg.jpg  \n",
            "  inflating: data/train/ben_afflek/httpssmediacacheakpinimgcomxdbbdbbbececacdecdcdfjpg.jpg  \n",
            "  inflating: data/train/ben_afflek/httpssmediacacheakpinimgcomxdfdfadcfeabjpg.jpg  \n",
            "  inflating: data/train/ben_afflek/httpssmediacacheakpinimgcomxedaedabcbefbcbabbjpg.jpg  \n",
            "  inflating: data/train/ben_afflek/httpssmediacacheakpinimgcomxeebdfdbaaajpg.jpg  \n",
            "  inflating: data/train/ben_afflek/httpssmediacacheakpinimgcomxeeedcacddeccccacfjpg.jpg  \n",
            "  inflating: data/train/ben_afflek/httpsuploadwikimediaorgwikipediacommonsthumbddBenAffleckbyGageSkidmorejpgpxBenAffleckbyGageSkidmorejpg.jpg  \n",
            "  inflating: data/train/ben_afflek/httptrwebimgacstanetcxbdddmediasnmediajpg.jpg  \n",
            "  inflating: data/train/ben_afflek/httpwwwaceshowbizcomimagesphotobenaffleckjpg.jpg  \n",
            "  inflating: data/train/ben_afflek/httpwwwallposterscomimagesPostersPFjpg.jpg  \n",
            "  inflating: data/train/ben_afflek/httpwwwfilmscoopitcgibinattoriBENAFFLECKBENAFFLECKjpg.jpg  \n",
            "  inflating: data/train/ben_afflek/httpwwwhillsindcomstorebenjpg.jpg  \n",
            "  inflating: data/train/ben_afflek/httpwwwrumenewscomwpcontentuploadsbenafflekxpng.jpg  \n",
            "  inflating: data/train/elton_john/httpftqncomymusicLxZeltonjohnjpg.jpg  \n",
            "  inflating: data/train/elton_john/httpiamediaimdbcomimagesMMVBMTAxNDUMzUwOTdeQTJeQWpwZBbWUMDUOTAyNTIVUXCRALjpg.jpg  \n",
            "  inflating: data/train/elton_john/httpimagesmtvcomurimgidfiledocrootvhcomsitewideflipbooksimgdailyjpgenlargefalsemattetruematteColorblackquality.jpg  \n",
            "  inflating: data/train/elton_john/httpimggalpmdstaticnetfithttpAFFwwwEgalaEfrFvarFgalFstorageFimagesFmediaFmultiuploaddufevrierFeltonjohnFfreFRFeltonjohnEjpgxqualityeltonjohnjpg.jpg  \n",
            "  inflating: data/train/elton_john/httpmediacacheecpinimgcomxffeffbcefjpg.jpg  \n",
            "  inflating: data/train/elton_john/httpmediapopsugarassetscomfilescbffewltonjpg.jpg  \n",
            "  inflating: data/train/elton_john/httpsdfrpwlycscloudfrontnetdeltonjohnjpg.jpg  \n",
            "  inflating: data/train/elton_john/httpspmctvlinefileswordpresscomeltonjohnjpg.jpg  \n",
            "  inflating: data/train/elton_john/httpssmediacacheakpinimgcomxfcfcbaeaeddabbjpg.jpg  \n",
            "  inflating: data/train/elton_john/httpssmediacacheakpinimgcomxfecfecaefaadfebejpg.jpg  \n",
            "  inflating: data/train/elton_john/httpssmediacacheakpinimgcomxfefdacfbfdeadajpg.jpg  \n",
            "  inflating: data/train/elton_john/httpsticketmnettmenusdamabbacdaebeafdbbCUSTOMjpg.jpg  \n",
            "  inflating: data/train/elton_john/httpsuploadwikimediaorgwikipediacommonsthumbEltonJohninsjpgpxEltonJohninsjpg.jpg  \n",
            "  inflating: data/train/elton_john/httpwwwdeadlinecomvimgnetwpcontentuploadseltonjpg.jpg  \n",
            "  inflating: data/train/elton_john/httpwwweonlinecomresizewwweonlinecomeolimagesEntireSitersxEltonJohnJRjpg.jpg  \n",
            "  inflating: data/train/elton_john/httpwwwjohnpauljonesarenacomeventimagesEltonCalendarVjpg.jpg  \n",
            "  inflating: data/train/elton_john/httpwwwlautdeEltonJohneltonjohnjpg.jpg  \n",
            "  inflating: data/train/jerry_seinfeld/httpgraphicsnytimescomimagessectionmoviesfilmographyWireImagejpg.jpg  \n",
            "  inflating: data/train/jerry_seinfeld/httpikinjaimgcomgawkermediaimageuploadsWmIuhdsrcedidjpgjpg.jpg  \n",
            "  inflating: data/train/jerry_seinfeld/httpimagescontactmusiccomnewsimagesjerryseinfeldjpg.jpg  \n",
            "  inflating: data/train/jerry_seinfeld/httpimagesrottentomatoescomimagesspotlightsnewsjerryseinfeldjpg.jpg  \n",
            "  inflating: data/train/jerry_seinfeld/httpimgthedrumcomsfspublicnewstmpjerryseinfeldjpg.jpg  \n",
            "  inflating: data/train/jerry_seinfeld/httpimgtimeincnetpeopleinewsjerryseinfeldjpg.jpg  \n",
            "  inflating: data/train/jerry_seinfeld/httpmediapopsugarassetscomfilesusersxlargejpg.jpg  \n",
            "  inflating: data/train/jerry_seinfeld/httppfodcompchannelslegacyprofilejerryseinfeldpodcastjpg.jpg  \n",
            "  inflating: data/train/jerry_seinfeld/httpsmedialivenationcomartiststapjpg.jpg  \n",
            "  inflating: data/train/jerry_seinfeld/httpsrobertaccetturacomwpcontentuploadsjerryseinfeldheadshotjpg.jpg  \n",
            "  inflating: data/train/jerry_seinfeld/httpstatictherichestimagescomcdncwpcontentuploadsJerrySeinfeldjpg.jpg  \n",
            "  inflating: data/train/jerry_seinfeld/httpsticketmnettmenusdbimagesajpg.jpg  \n",
            "  inflating: data/train/jerry_seinfeld/httpsuploadwikimediaorgwikipediacommonsthumbbJerrySeinfeldjpgpxJerrySeinfeldjpg.jpg  \n",
            "  inflating: data/train/jerry_seinfeld/httpsuswestamazonawscomblogsprodmediausuploadsJerrySeinfeldkidsxjpg.jpg  \n",
            "  inflating: data/train/jerry_seinfeld/httpswwwticketscomuploadsartistsjerryseinfeldbilletsjpg.jpg  \n",
            "  inflating: data/train/jerry_seinfeld/httpwwweonlinecomresizewwweonlinecomeolimagesEntireSitersxjerryseinfeldjulialouisdreyfusjwjpg.jpg  \n",
            "  inflating: data/train/jerry_seinfeld/httpwwwnndbcompeoplejerryseinfeldaujpg.jpg  \n",
            "  inflating: data/train/jerry_seinfeld/httpwwwpictureszimbiocomgpJerrySeinfeldJessicaSeinfeldmarriedBczSipMdNMQljpg.jpg  \n",
            "  inflating: data/train/jerry_seinfeld/httpwwwpsychiatrictimescomsitesdefaultfilesimagesmediaPTMofficSeinfeldjpg.jpg  \n",
            "  inflating: data/train/jerry_seinfeld/httpwwwslatecomcontentdamslateblogsbrowbeatseinfeldjpgCROParticlemediumjpg.jpg  \n",
            "  inflating: data/train/jerry_seinfeld/httpwwwwatchidcomsitesdefaultfilesuploadsightingBreitlingwatchJerrySeinfeldjpg.jpg  \n",
            "  inflating: data/train/madonna/httpiamediaimdbcomimagesMMVBMTANDQNTAxNDVeQTJeQWpwZBbWUMDIMjQOTYVUXCRALjpg.jpg  \n",
            "  inflating: data/train/madonna/httpimagegaladevcmseamadonnaprivatdetektivsquaretopsquarejpgv.jpg  \n",
            "  inflating: data/train/madonna/httpimgclosermagfrvarclosermagstorageimagesactupeoplebiodestarsmadonnamadonnafreFRmadonnaexactxljpg.jpg  \n",
            "  inflating: data/train/madonna/httpmediavoguecomrwblondesdarkbrowsmadonnajpg.jpg  \n",
            "  inflating: data/train/madonna/httpresizeparismatchladmediafrrffffffcentermiddleimgvarnewsstorageimagesparismatchpeopleazmadonnafreFRMadonnajpg.jpg  \n",
            "  inflating: data/train/madonna/httpssmediacacheakpinimgcomxaaeaaeecccaedfebdbjpg.jpg  \n",
            "  inflating: data/train/madonna/httpssmediacacheakpinimgcomxafafedebcbjpg.jpg  \n",
            "  inflating: data/train/madonna/httpssmediacacheakpinimgcomxdcfdcfedfaedadjpg.jpg  \n",
            "  inflating: data/train/madonna/httpssmediacacheakpinimgcomxfeebfdccajpg.jpg  \n",
            "  inflating: data/train/madonna/httpssmediacacheakpinimgcomxffabffabbbcfbceaedjpg.jpg  \n",
            "  inflating: data/train/madonna/httpssmediacacheakpinimgcomxffeabacaaejpg.jpg  \n",
            "  inflating: data/train/madonna/httpssmediacacheakpinimgcomxffecfafddjpg.jpg  \n",
            "  inflating: data/train/madonna/httpssvagalumecommadonnaimagesmadonnajpg.jpg  \n",
            "  inflating: data/train/madonna/httpsuploadwikimediaorgwikipediacommonsMadonnathAnnualGoldenGlobesAwardscroppedjpg.jpg  \n",
            "  inflating: data/train/madonna/httpsuploadwikimediaorgwikipediacommonsthumbaaMadonnaatthepremiereofIAmBecauseWeArejpgpxMadonnaatthepremiereofIAmBecauseWeArejpg.jpg  \n",
            "  inflating: data/train/madonna/httpuploadwikimediaorgwikipediacommonsthumbaMadonnaRotterdamjpgpxMadonnaRotterdamjpg.jpg  \n",
            "  inflating: data/train/madonna/httpwwwbeastiemaniacomwhoismadonnamadonnajpg.jpg  \n",
            "  inflating: data/train/madonna/httpwwwblackdogfilmscomwordpresswpcontentuploadsmadonnacelebrationxjpg.jpg  \n",
            "  inflating: data/train/madonna/httpwwwetonlinecomphotomadonnabdayjpg.jpg  \n",
            "  inflating: data/train/mindy_kaling/httpgonetworthcomwpcontentuploadsthumbsjpg.jpg  \n",
            "  inflating: data/train/mindy_kaling/httpgraphicsnytimescomimagesmagazinekalingkalingarticleInlinejpg.jpg  \n",
            "  inflating: data/train/mindy_kaling/httpimagesnymagcomimagesdailymindykalingxjpg.jpg  \n",
            "  inflating: data/train/mindy_kaling/httpmediaonsugarcomfilesbabaaaaaMindyInterviewxxxlargejpg.jpg  \n",
            "  inflating: data/train/mindy_kaling/httppixelnymagcomimgsfashiondailymindykalingwhjpg.jpg  \n",
            "  inflating: data/train/mindy_kaling/httpsamazonawscomkidzworldphotoimagesbccdddaaadgallerymindykalinggalleryjpg.jpg  \n",
            "  inflating: data/train/mindy_kaling/httpsimagesnasslimagesamazoncomimagesIAQdwKvFILUXjpg.jpg  \n",
            "  inflating: data/train/mindy_kaling/httpsimgbuzzfeedcombuzzfeedstaticstaticcampaignimageswebdradorableetsyitemsallmindykalingfansneedbigjpg.jpg  \n",
            "  inflating: data/train/mindy_kaling/httpssmediacacheakpinimgcomxafaffbbbbdbcbdddjpg.jpg  \n",
            "  inflating: data/train/mindy_kaling/httpssmediacacheakpinimgcomxbabafeacbaaacabffjpg.jpg  \n",
            "  inflating: data/train/mindy_kaling/httpssmediacacheakpinimgcomxbbfcbdedfbfdbjpg.jpg  \n",
            "  inflating: data/train/mindy_kaling/httpssmediacacheakpinimgcomxcccccddbbfedabjpg.jpg  \n",
            "  inflating: data/train/mindy_kaling/httpssmediacacheakpinimgcomxccccdabeaadjpg.jpg  \n",
            "  inflating: data/train/mindy_kaling/httpssmediacacheakpinimgcomxededbebccdajpg.jpg  \n",
            "  inflating: data/train/mindy_kaling/httpssmediacacheakpinimgcomxeedccadejpg.jpg  \n",
            "  inflating: data/train/mindy_kaling/httpsuploadwikimediaorgwikipediacommonsthumbMindyBKalingBPaleyFestBNewBYorkBBMindyBIqZgUWvbljpgpxMindyBKalingBPaleyFestBNewBYorkBBMindyBIqZgUWvbljpg.jpg  \n",
            "  inflating: data/train/mindy_kaling/httpwwwadweekcomfilesimagecachenodeinlinemindykalingprofilehedjpg.jpg  \n",
            "  inflating: data/train/mindy_kaling/httpwwwbooksforbetterlivingcomwpcontentuploadsMindyKalingAuthorPhotojpg.jpg  \n",
            "  inflating: data/train/mindy_kaling/httpwwweonlinecomeolimagesEntireSiteregKalingCancermhjpg.jpg  \n",
            "  inflating: data/train/mindy_kaling/httpwwwimpropercomimagesuploadsusercontentimagesSoroffMindyjpg.jpg  \n",
            "  inflating: data/train/mindy_kaling/httpwwwpictureszimbiocomfpMindyKalingfBgaONVFDFmjpg.jpg  \n",
            "  inflating: data/train/mindy_kaling/httpwwwpictureszimbiocomgiMindyKalingLkvEhTwDeJmjpg.jpg  \n",
            "  inflating: data/val/ben_afflek/httpabsolumentgratuitfreefrimagesbenaffleckjpg.jpg  \n",
            "  inflating: data/val/ben_afflek/httpafilesbiographycomimageuploadcfillcssrgbdprgfacehqwMTENDgMDUODczNDcNTcjpg.jpg  \n",
            "  inflating: data/val/ben_afflek/httpbpblogspotcomedLMjVpRGkSWexgsXjkNIAAAAAAAADWgFFtAUqBlhAsjpg.jpg  \n",
            "  inflating: data/val/ben_afflek/httpcsvkmeuaafdfjpg.jpg  \n",
            "  inflating: data/val/ben_afflek/httpcsvkmeuadecafjpg.jpg  \n",
            "  inflating: data/val/elton_john/httpafilesbiographycomimageuploadcfillcssrgbdprgfacehqwMTEODAOTcxNjcMjczMjkzjpg.jpg  \n",
            "  inflating: data/val/elton_john/httpcdncdnjustjaredcomwpcontentuploadsheadlineseltonjohnemmysperformancewatchnowjpg.jpg  \n",
            "  inflating: data/val/elton_john/httpcdncdnjustjaredcomwpcontentuploadsheadlineseltonjohnstillstandingbrooklynnewyearsjpg.jpg  \n",
            "  inflating: data/val/elton_john/httpcdncdnjustjaredcomwpcontentuploadsheadlineseltonjohnsupportsbrucejennerstransitiontowomanjpg.jpg  \n",
            "  inflating: data/val/elton_john/httpcdnlyricssongonlyricsnetwpcontentuploadsEltonJohnDiscographyCDreleasesjpg.jpg  \n",
            "  inflating: data/val/jerry_seinfeld/httpafilesbiographycomimageuploadcfillcssrgbdprgfacehqwMTIwNjANjMMDINzIxNjcjpg.jpg  \n",
            "  inflating: data/val/jerry_seinfeld/httpaurorasblogcomwpcontentuploadsjerryseinfeldpublicityshotjpg.jpg  \n",
            "  inflating: data/val/jerry_seinfeld/httpblognjcomentertainmentimpactcelebritiesmediumjerrybjpg.jpg  \n",
            "  inflating: data/val/jerry_seinfeld/httpcdncdnjustjaredcomwpcontentuploadsheadlinesjerryseinfeldmakesbrianwilliamsjokejpg.jpg  \n",
            "  inflating: data/val/jerry_seinfeld/httpcdnssninsidercomwpcontentuploadsjerryseinfeldxjpg.jpg  \n",
            "  inflating: data/val/madonna/httpassetsrollingstonecomassetsarticlemadonnadavidbowiechangedthecourseofmylifeforeversmallsquarexmadonnabowiejpg.jpg  \n",
            "  inflating: data/val/madonna/httpassetsrollingstonecomassetsimagesalbumreviewaffaceabdcccaeedjpg.jpg  \n",
            "  inflating: data/val/madonna/httpcdncdnjustjaredcomwpcontentuploadsheadlinesmadonnatalksparisattackstearsjpg.jpg  \n",
            "  inflating: data/val/madonna/httpcdnfuncheapcomwpcontentuploadsVOGUEjpg.jpg  \n",
            "  inflating: data/val/madonna/httpecximagesamazoncomimagesIfmaBKWLACULSRjpg.jpg  \n",
            "  inflating: data/val/mindy_kaling/httpafilesbiographycomimageuploadcfillcssrgbdprgfacehqwMTIOTcwODQNTUzNjQMzcjpg.jpg  \n",
            "  inflating: data/val/mindy_kaling/httpcdncdnjustjaredcomwpcontentuploadsheadlinesmindykalingcomedypilotjpg.jpg  \n",
            "  inflating: data/val/mindy_kaling/httpcdnpastemagazinecomwwwarticlesmindykalingndbookjpg.jpg  \n",
            "  inflating: data/val/mindy_kaling/httpcdnpastemagazinecomwwwarticlesmindyprojectjpg.jpg  \n",
            "  inflating: data/val/mindy_kaling/httpdbrbzkkbdsdcloudfrontnetwpcontentuploadsMindyKalingjpg.jpg  \n",
            "  inflating: train/ben_afflek/httpcsvkmeuaeccjpg.jpg  \n",
            "  inflating: train/ben_afflek/httpimagesfandangocomrImageRendererredesignstaticimgnoxportraitjpgpcpcpcimagesmasterrepositoryperformerimagespjpg.jpg  \n",
            "  inflating: train/ben_afflek/httpssmediacacheakpinimgcomxdbbdbbbececacdecdcdfjpg.jpg  \n",
            "  inflating: train/ben_afflek/httpssmediacacheakpinimgcomxdfdfadcfeabjpg.jpg  \n",
            "  inflating: train/ben_afflek/httpssmediacacheakpinimgcomxedaedabcbefbcbabbjpg.jpg  \n",
            "  inflating: train/ben_afflek/httpssmediacacheakpinimgcomxeebdfdbaaajpg.jpg  \n",
            "  inflating: train/ben_afflek/httpssmediacacheakpinimgcomxeeedcacddeccccacfjpg.jpg  \n",
            "  inflating: train/ben_afflek/httpsuploadwikimediaorgwikipediacommonsthumbddBenAffleckbyGageSkidmorejpgpxBenAffleckbyGageSkidmorejpg.jpg  \n",
            "  inflating: train/ben_afflek/httptrwebimgacstanetcxbdddmediasnmediajpg.jpg  \n",
            "  inflating: train/ben_afflek/httpwwwaceshowbizcomimagesphotobenaffleckjpg.jpg  \n",
            "  inflating: train/ben_afflek/httpwwwallposterscomimagesPostersPFjpg.jpg  \n",
            "  inflating: train/ben_afflek/httpwwwfilmscoopitcgibinattoriBENAFFLECKBENAFFLECKjpg.jpg  \n",
            "  inflating: train/ben_afflek/httpwwwhillsindcomstorebenjpg.jpg  \n",
            "  inflating: train/ben_afflek/httpwwwrumenewscomwpcontentuploadsbenafflekxpng.jpg  \n",
            "  inflating: train/elton_john/httpftqncomymusicLxZeltonjohnjpg.jpg  \n",
            "  inflating: train/elton_john/httpiamediaimdbcomimagesMMVBMTAxNDUMzUwOTdeQTJeQWpwZBbWUMDUOTAyNTIVUXCRALjpg.jpg  \n",
            "  inflating: train/elton_john/httpimagesmtvcomurimgidfiledocrootvhcomsitewideflipbooksimgdailyjpgenlargefalsemattetruematteColorblackquality.jpg  \n",
            "  inflating: train/elton_john/httpimggalpmdstaticnetfithttpAFFwwwEgalaEfrFvarFgalFstorageFimagesFmediaFmultiuploaddufevrierFeltonjohnFfreFRFeltonjohnEjpgxqualityeltonjohnjpg.jpg  \n",
            "  inflating: train/elton_john/httpmediacacheecpinimgcomxffeffbcefjpg.jpg  \n",
            "  inflating: train/elton_john/httpmediapopsugarassetscomfilescbffewltonjpg.jpg  \n",
            "  inflating: train/elton_john/httpsdfrpwlycscloudfrontnetdeltonjohnjpg.jpg  \n",
            "  inflating: train/elton_john/httpspmctvlinefileswordpresscomeltonjohnjpg.jpg  \n",
            "  inflating: train/elton_john/httpssmediacacheakpinimgcomxfcfcbaeaeddabbjpg.jpg  \n",
            "  inflating: train/elton_john/httpssmediacacheakpinimgcomxfecfecaefaadfebejpg.jpg  \n",
            "  inflating: train/elton_john/httpssmediacacheakpinimgcomxfefdacfbfdeadajpg.jpg  \n",
            "  inflating: train/elton_john/httpsticketmnettmenusdamabbacdaebeafdbbCUSTOMjpg.jpg  \n",
            "  inflating: train/elton_john/httpsuploadwikimediaorgwikipediacommonsthumbEltonJohninsjpgpxEltonJohninsjpg.jpg  \n",
            "  inflating: train/elton_john/httpwwwdeadlinecomvimgnetwpcontentuploadseltonjpg.jpg  \n",
            "  inflating: train/elton_john/httpwwweonlinecomresizewwweonlinecomeolimagesEntireSitersxEltonJohnJRjpg.jpg  \n",
            "  inflating: train/elton_john/httpwwwjohnpauljonesarenacomeventimagesEltonCalendarVjpg.jpg  \n",
            "  inflating: train/elton_john/httpwwwlautdeEltonJohneltonjohnjpg.jpg  \n",
            "  inflating: train/jerry_seinfeld/httpgraphicsnytimescomimagessectionmoviesfilmographyWireImagejpg.jpg  \n",
            "  inflating: train/jerry_seinfeld/httpikinjaimgcomgawkermediaimageuploadsWmIuhdsrcedidjpgjpg.jpg  \n",
            "  inflating: train/jerry_seinfeld/httpimagescontactmusiccomnewsimagesjerryseinfeldjpg.jpg  \n",
            "  inflating: train/jerry_seinfeld/httpimagesrottentomatoescomimagesspotlightsnewsjerryseinfeldjpg.jpg  \n",
            "  inflating: train/jerry_seinfeld/httpimgthedrumcomsfspublicnewstmpjerryseinfeldjpg.jpg  \n",
            "  inflating: train/jerry_seinfeld/httpimgtimeincnetpeopleinewsjerryseinfeldjpg.jpg  \n",
            "  inflating: train/jerry_seinfeld/httpmediapopsugarassetscomfilesusersxlargejpg.jpg  \n",
            "  inflating: train/jerry_seinfeld/httppfodcompchannelslegacyprofilejerryseinfeldpodcastjpg.jpg  \n",
            "  inflating: train/jerry_seinfeld/httpsmedialivenationcomartiststapjpg.jpg  \n",
            "  inflating: train/jerry_seinfeld/httpsrobertaccetturacomwpcontentuploadsjerryseinfeldheadshotjpg.jpg  \n",
            "  inflating: train/jerry_seinfeld/httpstatictherichestimagescomcdncwpcontentuploadsJerrySeinfeldjpg.jpg  \n",
            "  inflating: train/jerry_seinfeld/httpsticketmnettmenusdbimagesajpg.jpg  \n",
            "  inflating: train/jerry_seinfeld/httpsuploadwikimediaorgwikipediacommonsthumbbJerrySeinfeldjpgpxJerrySeinfeldjpg.jpg  \n",
            "  inflating: train/jerry_seinfeld/httpsuswestamazonawscomblogsprodmediausuploadsJerrySeinfeldkidsxjpg.jpg  \n",
            "  inflating: train/jerry_seinfeld/httpswwwticketscomuploadsartistsjerryseinfeldbilletsjpg.jpg  \n",
            "  inflating: train/jerry_seinfeld/httpwwweonlinecomresizewwweonlinecomeolimagesEntireSitersxjerryseinfeldjulialouisdreyfusjwjpg.jpg  \n",
            "  inflating: train/jerry_seinfeld/httpwwwnndbcompeoplejerryseinfeldaujpg.jpg  \n",
            "  inflating: train/jerry_seinfeld/httpwwwpictureszimbiocomgpJerrySeinfeldJessicaSeinfeldmarriedBczSipMdNMQljpg.jpg  \n",
            "  inflating: train/jerry_seinfeld/httpwwwpsychiatrictimescomsitesdefaultfilesimagesmediaPTMofficSeinfeldjpg.jpg  \n",
            "  inflating: train/jerry_seinfeld/httpwwwslatecomcontentdamslateblogsbrowbeatseinfeldjpgCROParticlemediumjpg.jpg  \n",
            "  inflating: train/jerry_seinfeld/httpwwwwatchidcomsitesdefaultfilesuploadsightingBreitlingwatchJerrySeinfeldjpg.jpg  \n",
            "  inflating: train/madonna/httpiamediaimdbcomimagesMMVBMTANDQNTAxNDVeQTJeQWpwZBbWUMDIMjQOTYVUXCRALjpg.jpg  \n",
            "  inflating: train/madonna/httpimagegaladevcmseamadonnaprivatdetektivsquaretopsquarejpgv.jpg  \n",
            "  inflating: train/madonna/httpimgclosermagfrvarclosermagstorageimagesactupeoplebiodestarsmadonnamadonnafreFRmadonnaexactxljpg.jpg  \n",
            "  inflating: train/madonna/httpmediavoguecomrwblondesdarkbrowsmadonnajpg.jpg  \n",
            "  inflating: train/madonna/httpresizeparismatchladmediafrrffffffcentermiddleimgvarnewsstorageimagesparismatchpeopleazmadonnafreFRMadonnajpg.jpg  \n",
            "  inflating: train/madonna/httpssmediacacheakpinimgcomxaaeaaeecccaedfebdbjpg.jpg  \n",
            "  inflating: train/madonna/httpssmediacacheakpinimgcomxafafedebcbjpg.jpg  \n",
            "  inflating: train/madonna/httpssmediacacheakpinimgcomxdcfdcfedfaedadjpg.jpg  \n",
            "  inflating: train/madonna/httpssmediacacheakpinimgcomxfeebfdccajpg.jpg  \n",
            "  inflating: train/madonna/httpssmediacacheakpinimgcomxffabffabbbcfbceaedjpg.jpg  \n",
            "  inflating: train/madonna/httpssmediacacheakpinimgcomxffeabacaaejpg.jpg  \n",
            "  inflating: train/madonna/httpssmediacacheakpinimgcomxffecfafddjpg.jpg  \n",
            "  inflating: train/madonna/httpssvagalumecommadonnaimagesmadonnajpg.jpg  \n",
            "  inflating: train/madonna/httpsuploadwikimediaorgwikipediacommonsMadonnathAnnualGoldenGlobesAwardscroppedjpg.jpg  \n",
            "  inflating: train/madonna/httpsuploadwikimediaorgwikipediacommonsthumbaaMadonnaatthepremiereofIAmBecauseWeArejpgpxMadonnaatthepremiereofIAmBecauseWeArejpg.jpg  \n",
            "  inflating: train/madonna/httpuploadwikimediaorgwikipediacommonsthumbaMadonnaRotterdamjpgpxMadonnaRotterdamjpg.jpg  \n",
            "  inflating: train/madonna/httpwwwbeastiemaniacomwhoismadonnamadonnajpg.jpg  \n",
            "  inflating: train/madonna/httpwwwblackdogfilmscomwordpresswpcontentuploadsmadonnacelebrationxjpg.jpg  \n",
            "  inflating: train/madonna/httpwwwetonlinecomphotomadonnabdayjpg.jpg  \n",
            "  inflating: train/mindy_kaling/httpgonetworthcomwpcontentuploadsthumbsjpg.jpg  \n",
            "  inflating: train/mindy_kaling/httpgraphicsnytimescomimagesmagazinekalingkalingarticleInlinejpg.jpg  \n",
            "  inflating: train/mindy_kaling/httpimagesnymagcomimagesdailymindykalingxjpg.jpg  \n",
            "  inflating: train/mindy_kaling/httpmediaonsugarcomfilesbabaaaaaMindyInterviewxxxlargejpg.jpg  \n",
            "  inflating: train/mindy_kaling/httppixelnymagcomimgsfashiondailymindykalingwhjpg.jpg  \n",
            "  inflating: train/mindy_kaling/httpsamazonawscomkidzworldphotoimagesbccdddaaadgallerymindykalinggalleryjpg.jpg  \n",
            "  inflating: train/mindy_kaling/httpsimagesnasslimagesamazoncomimagesIAQdwKvFILUXjpg.jpg  \n",
            "  inflating: train/mindy_kaling/httpsimgbuzzfeedcombuzzfeedstaticstaticcampaignimageswebdradorableetsyitemsallmindykalingfansneedbigjpg.jpg  \n",
            "  inflating: train/mindy_kaling/httpssmediacacheakpinimgcomxafaffbbbbdbcbdddjpg.jpg  \n",
            "  inflating: train/mindy_kaling/httpssmediacacheakpinimgcomxbabafeacbaaacabffjpg.jpg  \n",
            "  inflating: train/mindy_kaling/httpssmediacacheakpinimgcomxbbfcbdedfbfdbjpg.jpg  \n",
            "  inflating: train/mindy_kaling/httpssmediacacheakpinimgcomxcccccddbbfedabjpg.jpg  \n",
            "  inflating: train/mindy_kaling/httpssmediacacheakpinimgcomxccccdabeaadjpg.jpg  \n",
            "  inflating: train/mindy_kaling/httpssmediacacheakpinimgcomxededbebccdajpg.jpg  \n",
            "  inflating: train/mindy_kaling/httpssmediacacheakpinimgcomxeedccadejpg.jpg  \n",
            "  inflating: train/mindy_kaling/httpsuploadwikimediaorgwikipediacommonsthumbMindyBKalingBPaleyFestBNewBYorkBBMindyBIqZgUWvbljpgpxMindyBKalingBPaleyFestBNewBYorkBBMindyBIqZgUWvbljpg.jpg  \n",
            "  inflating: train/mindy_kaling/httpwwwadweekcomfilesimagecachenodeinlinemindykalingprofilehedjpg.jpg  \n",
            "  inflating: train/mindy_kaling/httpwwwbooksforbetterlivingcomwpcontentuploadsMindyKalingAuthorPhotojpg.jpg  \n",
            "  inflating: train/mindy_kaling/httpwwweonlinecomeolimagesEntireSiteregKalingCancermhjpg.jpg  \n",
            "  inflating: train/mindy_kaling/httpwwwimpropercomimagesuploadsusercontentimagesSoroffMindyjpg.jpg  \n",
            "  inflating: train/mindy_kaling/httpwwwpictureszimbiocomfpMindyKalingfBgaONVFDFmjpg.jpg  \n",
            "  inflating: train/mindy_kaling/httpwwwpictureszimbiocomgiMindyKalingLkvEhTwDeJmjpg.jpg  \n",
            "  inflating: val/ben_afflek/httpabsolumentgratuitfreefrimagesbenaffleckjpg.jpg  \n",
            "  inflating: val/ben_afflek/httpafilesbiographycomimageuploadcfillcssrgbdprgfacehqwMTENDgMDUODczNDcNTcjpg.jpg  \n",
            "  inflating: val/ben_afflek/httpbpblogspotcomedLMjVpRGkSWexgsXjkNIAAAAAAAADWgFFtAUqBlhAsjpg.jpg  \n",
            "  inflating: val/ben_afflek/httpcsvkmeuaafdfjpg.jpg  \n",
            "  inflating: val/ben_afflek/httpcsvkmeuadecafjpg.jpg  \n",
            "  inflating: val/elton_john/httpafilesbiographycomimageuploadcfillcssrgbdprgfacehqwMTEODAOTcxNjcMjczMjkzjpg.jpg  \n",
            "  inflating: val/elton_john/httpcdncdnjustjaredcomwpcontentuploadsheadlineseltonjohnemmysperformancewatchnowjpg.jpg  \n",
            "  inflating: val/elton_john/httpcdncdnjustjaredcomwpcontentuploadsheadlineseltonjohnstillstandingbrooklynnewyearsjpg.jpg  \n",
            "  inflating: val/elton_john/httpcdncdnjustjaredcomwpcontentuploadsheadlineseltonjohnsupportsbrucejennerstransitiontowomanjpg.jpg  \n",
            "  inflating: val/elton_john/httpcdnlyricssongonlyricsnetwpcontentuploadsEltonJohnDiscographyCDreleasesjpg.jpg  \n",
            "  inflating: val/jerry_seinfeld/httpafilesbiographycomimageuploadcfillcssrgbdprgfacehqwMTIwNjANjMMDINzIxNjcjpg.jpg  \n",
            "  inflating: val/jerry_seinfeld/httpaurorasblogcomwpcontentuploadsjerryseinfeldpublicityshotjpg.jpg  \n",
            "  inflating: val/jerry_seinfeld/httpblognjcomentertainmentimpactcelebritiesmediumjerrybjpg.jpg  \n",
            "  inflating: val/jerry_seinfeld/httpcdncdnjustjaredcomwpcontentuploadsheadlinesjerryseinfeldmakesbrianwilliamsjokejpg.jpg  \n",
            "  inflating: val/jerry_seinfeld/httpcdnssninsidercomwpcontentuploadsjerryseinfeldxjpg.jpg  \n",
            "  inflating: val/madonna/httpassetsrollingstonecomassetsarticlemadonnadavidbowiechangedthecourseofmylifeforeversmallsquarexmadonnabowiejpg.jpg  \n",
            "  inflating: val/madonna/httpassetsrollingstonecomassetsimagesalbumreviewaffaceabdcccaeedjpg.jpg  \n",
            "  inflating: val/madonna/httpcdncdnjustjaredcomwpcontentuploadsheadlinesmadonnatalksparisattackstearsjpg.jpg  \n",
            "  inflating: val/madonna/httpcdnfuncheapcomwpcontentuploadsVOGUEjpg.jpg  \n",
            "  inflating: val/madonna/httpecximagesamazoncomimagesIfmaBKWLACULSRjpg.jpg  \n",
            "  inflating: val/mindy_kaling/httpafilesbiographycomimageuploadcfillcssrgbdprgfacehqwMTIOTcwODQNTUzNjQMzcjpg.jpg  \n",
            "  inflating: val/mindy_kaling/httpcdncdnjustjaredcomwpcontentuploadsheadlinesmindykalingcomedypilotjpg.jpg  \n",
            "  inflating: val/mindy_kaling/httpcdnpastemagazinecomwwwarticlesmindykalingndbookjpg.jpg  \n",
            "  inflating: val/mindy_kaling/httpcdnpastemagazinecomwwwarticlesmindyprojectjpg.jpg  \n",
            "  inflating: val/mindy_kaling/httpdbrbzkkbdsdcloudfrontnetwpcontentuploadsMindyKalingjpg.jpg  \n"
          ]
        }
      ],
      "source": [
        "!unzip dataset.zip"
      ]
    },
    {
      "cell_type": "code",
      "source": [
        "pip install mtcnn"
      ],
      "metadata": {
        "colab": {
          "base_uri": "https://localhost:8080/"
        },
        "id": "7KSgbD-i6jze",
        "outputId": "c63fe260-664d-465f-f81d-fa01bd77cf48"
      },
      "execution_count": 2,
      "outputs": [
        {
          "output_type": "stream",
          "name": "stdout",
          "text": [
            "Collecting mtcnn\n",
            "  Downloading mtcnn-0.1.1-py3-none-any.whl (2.3 MB)\n",
            "\u001b[K     |████████████████████████████████| 2.3 MB 5.5 MB/s \n",
            "\u001b[?25hRequirement already satisfied: keras>=2.0.0 in /usr/local/lib/python3.7/dist-packages (from mtcnn) (2.8.0)\n",
            "Requirement already satisfied: opencv-python>=4.1.0 in /usr/local/lib/python3.7/dist-packages (from mtcnn) (4.1.2.30)\n",
            "Requirement already satisfied: numpy>=1.14.5 in /usr/local/lib/python3.7/dist-packages (from opencv-python>=4.1.0->mtcnn) (1.21.5)\n",
            "Installing collected packages: mtcnn\n",
            "Successfully installed mtcnn-0.1.1\n"
          ]
        }
      ]
    },
    {
      "cell_type": "code",
      "source": [
        "from os import listdir\n",
        "import os\n",
        "from PIL import Image\n",
        "from numpy import asarray\n",
        "from matplotlib import pyplot\n",
        "from mtcnn.mtcnn import MTCNN\n",
        "from numpy.lib.npyio import savez_compressed\n",
        "import pickle"
      ],
      "metadata": {
        "id": "upRcgiJ05ccA"
      },
      "execution_count": 9,
      "outputs": []
    },
    {
      "cell_type": "markdown",
      "source": [
        "Detecting faces using MTCNN and extracting them"
      ],
      "metadata": {
        "id": "TPACrPGOkaA3"
      }
    },
    {
      "cell_type": "code",
      "source": [
        "def extract_faces(filename, required_size=(160, 160)):\n",
        "  image= Image.open(filename)\n",
        "  image= image.convert(\"RGB\")\n",
        "  pixels= asarray(image)\n",
        "  detector= MTCNN()\n",
        "  results= detector.detect_faces(pixels)\n",
        "  x1, y1, width, height= results[0]['box']\n",
        "  x1, y1= abs(x1), abs(y1)\n",
        "  x2, y2= x1+width, y1+height\n",
        "  face= pixels[y1:y2, x1:x2]\n",
        "  image= Image.fromarray(face)\n",
        "  image= image.resize(required_size)\n",
        "  face_array= asarray(image)\n",
        "  return face_array\n",
        "\n",
        "def load_faces(directory):\n",
        "  faces= list()\n",
        "  for filename in listdir(directory):\n",
        "    path= directory+ filename\n",
        "    face= extract_faces(path)\n",
        "    faces.append(face)\n",
        "  return faces \n",
        "\n",
        "def load_dataset(directory):\n",
        "  X, y= list(), list()\n",
        "  for subdir in listdir(directory):\n",
        "    path= directory+ subdir+ '/'\n",
        "    if not os.path.isdir(path):\n",
        "      continue\n",
        "    faces= load_faces(path)\n",
        "    labels= [subdir for _ in range(len(faces))]\n",
        "    print('>loaded %d examples for class: %s' %(len(faces), subdir))\n",
        "    X.extend(faces)\n",
        "    y.extend(labels)\n",
        "  return asarray(X), asarray(y)\n",
        "\n",
        "trainX, trainy= load_dataset('/content/train/')\n",
        "print(trainX.shape, trainy.shape)\n",
        "\n",
        "testX, testy= load_dataset('/content/val/')\n",
        "\n",
        "savez_compressed('Celebrity faces dataset.npz', trainX, trainy, testX, testy)"
      ],
      "metadata": {
        "id": "afxtZK5o-QE_",
        "colab": {
          "base_uri": "https://localhost:8080/"
        },
        "outputId": "33329c73-431e-41c0-a025-a7f59ad27cb7"
      },
      "execution_count": 6,
      "outputs": [
        {
          "output_type": "stream",
          "name": "stdout",
          "text": [
            ">loaded 17 examples for class: elton_john\n",
            ">loaded 22 examples for class: mindy_kaling\n",
            ">loaded 14 examples for class: ben_afflek\n",
            ">loaded 21 examples for class: jerry_seinfeld\n",
            ">loaded 19 examples for class: madonna\n",
            "(93, 160, 160, 3) (93,)\n",
            ">loaded 5 examples for class: elton_john\n",
            ">loaded 5 examples for class: mindy_kaling\n",
            ">loaded 5 examples for class: ben_afflek\n",
            ">loaded 5 examples for class: jerry_seinfeld\n",
            ">loaded 5 examples for class: madonna\n"
          ]
        }
      ]
    },
    {
      "cell_type": "code",
      "source": [
        "from numpy import load\n",
        "from numpy import expand_dims\n",
        "from numpy import asarray\n",
        "from numpy import savez_compressed\n",
        "from keras.models import load_model"
      ],
      "metadata": {
        "id": "WNaQL8dgJ3N8"
      },
      "execution_count": 7,
      "outputs": []
    },
    {
      "cell_type": "markdown",
      "source": [
        "Creating face embeddings using FaceNet"
      ],
      "metadata": {
        "id": "sXvet9-Gk2K_"
      }
    },
    {
      "cell_type": "code",
      "source": [
        "def get_embedding(model, face_pixels):\n",
        "\tface_pixels = face_pixels.astype('float32')\n",
        "\tmean, std = face_pixels.mean(), face_pixels.std()\n",
        "\tface_pixels = (face_pixels - mean) / std\n",
        "\tsamples = expand_dims(face_pixels, axis=0)\n",
        "\tyhat = model.predict(samples)\n",
        "\treturn yhat[0]\n",
        "\n",
        "data= load('Celebrity faces dataset.npz')\n",
        "trainX, trainy, testX, testy = data['arr_0'], data['arr_1'], data['arr_2'], data['arr_3']\n",
        "print('Loaded: ', trainX.shape, trainy.shape, testX.shape, testy.shape)\n",
        "model = load_model('facenet_keras.h5')\n",
        "print('Loaded Model')"
      ],
      "metadata": {
        "colab": {
          "base_uri": "https://localhost:8080/"
        },
        "id": "9vFW2ekNLWn4",
        "outputId": "d09f6e6f-3126-4324-db09-9d6c1886add6"
      },
      "execution_count": 10,
      "outputs": [
        {
          "output_type": "stream",
          "name": "stdout",
          "text": [
            "Loaded:  (93, 160, 160, 3) (93,) (25, 160, 160, 3) (25,)\n",
            "WARNING:tensorflow:No training configuration found in the save file, so the model was *not* compiled. Compile it manually.\n",
            "Loaded Model\n"
          ]
        }
      ]
    },
    {
      "cell_type": "code",
      "source": [
        "newTrainX = list()\n",
        "for face_pixels in trainX:\n",
        "\tembedding = get_embedding(model, face_pixels)\n",
        "\tnewTrainX.append(embedding)\n",
        "newTrainX = asarray(newTrainX)\n",
        "print(newTrainX.shape)\n",
        "\n",
        "newTestX = list()\n",
        "for face_pixels in testX:\n",
        "\tembedding = get_embedding(model, face_pixels)\n",
        "\tnewTestX.append(embedding)\n",
        "newTestX = asarray(newTestX)\n",
        "print(newTestX.shape)\n",
        "\n",
        "savez_compressed('Celebrity-faces-embeddings.npz', newTrainX, trainy, newTestX, testy)"
      ],
      "metadata": {
        "colab": {
          "base_uri": "https://localhost:8080/"
        },
        "id": "ycDuU7kzN4L8",
        "outputId": "968e7029-8c82-4651-fdb6-6cca3271d4ba"
      },
      "execution_count": 12,
      "outputs": [
        {
          "output_type": "stream",
          "name": "stdout",
          "text": [
            "(93, 128)\n",
            "(25, 128)\n"
          ]
        }
      ]
    },
    {
      "cell_type": "markdown",
      "source": [
        "Face Classification using SVC"
      ],
      "metadata": {
        "id": "OyGAgvERlki0"
      }
    },
    {
      "cell_type": "code",
      "source": [
        "data = load('Celebrity-faces-embeddings.npz')\n",
        "trainX, trainy, testX, testy = data['arr_0'], data['arr_1'], data['arr_2'], data['arr_3']\n",
        "print('Dataset: train=%d, test=%d' % (trainX.shape[0], testX.shape[0]))"
      ],
      "metadata": {
        "colab": {
          "base_uri": "https://localhost:8080/"
        },
        "id": "w5n3h-qvgnth",
        "outputId": "3c1d108e-d227-479d-e0fc-fdd531413993"
      },
      "execution_count": 14,
      "outputs": [
        {
          "output_type": "stream",
          "name": "stdout",
          "text": [
            "Dataset: train=93, test=25\n"
          ]
        }
      ]
    },
    {
      "cell_type": "code",
      "source": [
        "from numpy import load\n",
        "from numpy import expand_dims\n",
        "from sklearn.preprocessing import LabelEncoder\n",
        "from sklearn.preprocessing import Normalizer\n",
        "from sklearn.svm import SVC\n",
        "from sklearn.metrics import accuracy_score"
      ],
      "metadata": {
        "id": "ybeqx4ZaiNyc"
      },
      "execution_count": 21,
      "outputs": []
    },
    {
      "cell_type": "code",
      "source": [
        "in_encoder = Normalizer(norm='l2')\n",
        "trainX = in_encoder.transform(trainX)\n",
        "testX = in_encoder.transform(testX)\n",
        "out_encoder = LabelEncoder()\n",
        "out_encoder.fit(trainy)\n",
        "trainy = out_encoder.transform(trainy)\n",
        "testy = out_encoder.transform(testy)"
      ],
      "metadata": {
        "id": "nk8PRS6fg0eW"
      },
      "execution_count": 17,
      "outputs": []
    },
    {
      "cell_type": "code",
      "source": [
        "model = SVC(kernel='linear', probability=True)\n",
        "model.fit(trainX, trainy)\n",
        "\n",
        "pickle.dump(model, open('model.pickle', 'wb'))"
      ],
      "metadata": {
        "id": "nOe3aWnRg_3x"
      },
      "execution_count": 19,
      "outputs": []
    },
    {
      "cell_type": "code",
      "source": [
        "yhat_train = model.predict(trainX)\n",
        "yhat_test = model.predict(testX)\n",
        "\n",
        "score_train = accuracy_score(trainy, yhat_train)\n",
        "score_test = accuracy_score(testy, yhat_test)\n",
        "\n",
        "print('Accuracy: train=%.2f, test=%.2f' % (score_train*100, score_test*100))"
      ],
      "metadata": {
        "colab": {
          "base_uri": "https://localhost:8080/"
        },
        "id": "-TYQAmmDhkI5",
        "outputId": "7607994a-a4e2-4299-d351-e586f8ebcc41"
      },
      "execution_count": 22,
      "outputs": [
        {
          "output_type": "stream",
          "name": "stdout",
          "text": [
            "Accuracy: train=100.00, test=100.00\n"
          ]
        }
      ]
    },
    {
      "cell_type": "markdown",
      "source": [
        "Testing model on random examples from test dataset"
      ],
      "metadata": {
        "id": "zhpxWaOklyBa"
      }
    },
    {
      "cell_type": "code",
      "source": [
        "from random import choice\n",
        "selection = choice([i for i in range(testX.shape[0])])\n",
        "random_face_pixels = testX[selection]\n",
        "random_face_emb = testX[selection]\n",
        "random_face_class = testy[selection]\n",
        "random_face_name = out_encoder.inverse_transform([random_face_class])\n",
        "\n",
        "samples = expand_dims(random_face_emb, axis=0)\n",
        "yhat_class = model.predict(samples)\n",
        "yhat_prob = model.predict_proba(samples)\n",
        "\n",
        "class_index = yhat_class[0]\n",
        "class_probability = yhat_prob[0,class_index] * 100\n",
        "predict_names = out_encoder.inverse_transform(yhat_class)\n",
        "print('Predicted: %s (%.3f)' % (predict_names[0], class_probability))\n",
        "print('Expected: %s' % random_face_name[0])"
      ],
      "metadata": {
        "colab": {
          "base_uri": "https://localhost:8080/"
        },
        "id": "X-TSr--_jLsZ",
        "outputId": "2a0d38df-9a81-4b05-d6e8-88b5a716f43d"
      },
      "execution_count": 25,
      "outputs": [
        {
          "output_type": "stream",
          "name": "stdout",
          "text": [
            "Predicted: elton_john (91.397)\n",
            "Expected: elton_john\n"
          ]
        }
      ]
    }
  ]
}